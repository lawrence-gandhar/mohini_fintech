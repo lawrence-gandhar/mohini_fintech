{
 "cells": [
  {
   "cell_type": "code",
   "execution_count": 8,
   "metadata": {},
   "outputs": [],
   "source": [
    "import warnings\n",
    "warnings.filterwarnings(\"ignore\")"
   ]
  },
  {
   "cell_type": "code",
   "execution_count": 9,
   "metadata": {},
   "outputs": [],
   "source": [
    "# Importing libraries\n",
    "import pandas as pd\n",
    "import numpy as np\n",
    "import math\n",
    "from sklearn.linear_model import LogisticRegression\n",
    "from sklearn.linear_model import LinearRegression"
   ]
  },
  {
   "cell_type": "code",
   "execution_count": 10,
   "metadata": {},
   "outputs": [],
   "source": [
    "# Loading the data\n",
    "data=pd.read_csv(\"LGD_Input.csv\",index_col=\"Account_ID\")\n",
    "data['Rec_Rate']=(data.PV_Cashflows-data.PV_Cost)/data.EAD_OS\n",
    "# Data processing and fitting the linear model\n",
    "x=data[['Beta_Value','Sec_Flag']]\n",
    "y=data.Rec_Rate\n",
    "linmodel=LinearRegression().fit(x,y)\n",
    "# Extracting intercept and coefficient terms\n",
    "intercept=linmodel.intercept_\n",
    "coeff=pd.DataFrame(linmodel.coef_)\n",
    "coeff=coeff.transpose()\n",
    "beta1=coeff[0]\n",
    "beta2=coeff[1]\n",
    "# Computing estimated RR and Est_LGD\n",
    "data['Est_RR']=intercept+(data['Beta_Value']*beta1[0])+(data['Sec_Flag']*beta2[0])\n",
    "data['Est_LGD']=1-data.Est_RR\n",
    "# Computing LGD\n",
    "stats1=pd.DataFrame(data.Est_LGD.groupby(data.Sector).mean())\n",
    "stats1.rename(columns = {\"Est_LGD\" : \"LGD\"},inplace=True)\n",
    "Output_LGD=pd.merge(data, stats1,left_on = 'Sector', right_on = 'Sector', how='outer')\n",
    "Output_LGD.to_csv(\"Output_LGD.csv\",index=False)"
   ]
  },
  {
   "cell_type": "code",
   "execution_count": null,
   "metadata": {},
   "outputs": [],
   "source": []
  }
 ],
 "metadata": {
  "kernelspec": {
   "display_name": "Python 3",
   "language": "python",
   "name": "python3"
  },
  "language_info": {
   "codemirror_mode": {
    "name": "ipython",
    "version": 3
   },
   "file_extension": ".py",
   "mimetype": "text/x-python",
   "name": "python",
   "nbconvert_exporter": "python",
   "pygments_lexer": "ipython3",
   "version": "3.9.7"
  }
 },
 "nbformat": 4,
 "nbformat_minor": 4
}
