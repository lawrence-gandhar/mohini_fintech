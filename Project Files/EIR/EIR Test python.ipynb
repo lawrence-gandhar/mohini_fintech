{
 "cells": [
  {
   "cell_type": "code",
   "execution_count": 1,
   "id": "a23af0ce-de4b-46b2-a535-97741ccefe48",
   "metadata": {
    "scrolled": true
   },
   "outputs": [],
   "source": [
    "import pandas as pd\n",
    "import numpy as np\n",
    "import numpy_financial as npf"
   ]
  },
  {
   "cell_type": "code",
   "execution_count": 2,
   "id": "9aa15c84-4590-4aaa-b868-d2d6fcb12931",
   "metadata": {},
   "outputs": [],
   "source": [
    "data=pd.read_csv(\"Input_EIR_Test.csv\",index_col=\"Account_ID\")"
   ]
  },
  {
   "cell_type": "code",
   "execution_count": 3,
   "id": "0a690c66-393a-4158-8c79-8d2b7f7cbdd4",
   "metadata": {},
   "outputs": [
    {
     "data": {
      "text/html": [
       "<div>\n",
       "<style scoped>\n",
       "    .dataframe tbody tr th:only-of-type {\n",
       "        vertical-align: middle;\n",
       "    }\n",
       "\n",
       "    .dataframe tbody tr th {\n",
       "        vertical-align: top;\n",
       "    }\n",
       "\n",
       "    .dataframe thead th {\n",
       "        text-align: right;\n",
       "    }\n",
       "</style>\n",
       "<table border=\"1\" class=\"dataframe\">\n",
       "  <thead>\n",
       "    <tr style=\"text-align: right;\">\n",
       "      <th></th>\n",
       "      <th>Dates</th>\n",
       "      <th>Loan_Availed</th>\n",
       "      <th>Cost_Avail</th>\n",
       "      <th>Rate</th>\n",
       "      <th>EMI</th>\n",
       "    </tr>\n",
       "    <tr>\n",
       "      <th>Account_ID</th>\n",
       "      <th></th>\n",
       "      <th></th>\n",
       "      <th></th>\n",
       "      <th></th>\n",
       "      <th></th>\n",
       "    </tr>\n",
       "  </thead>\n",
       "  <tbody>\n",
       "    <tr>\n",
       "      <th>AA12</th>\n",
       "      <td>12/31/2020</td>\n",
       "      <td>5000000</td>\n",
       "      <td>50000</td>\n",
       "      <td>0.08</td>\n",
       "      <td>-4950000</td>\n",
       "    </tr>\n",
       "    <tr>\n",
       "      <th>AA12</th>\n",
       "      <td>1/1/2021</td>\n",
       "      <td>5000000</td>\n",
       "      <td>50000</td>\n",
       "      <td>0.08</td>\n",
       "      <td>41822</td>\n",
       "    </tr>\n",
       "    <tr>\n",
       "      <th>AA12</th>\n",
       "      <td>2/28/2021</td>\n",
       "      <td>5000000</td>\n",
       "      <td>50000</td>\n",
       "      <td>0.08</td>\n",
       "      <td>41822</td>\n",
       "    </tr>\n",
       "    <tr>\n",
       "      <th>AA12</th>\n",
       "      <td>3/31/2021</td>\n",
       "      <td>5000000</td>\n",
       "      <td>50000</td>\n",
       "      <td>0.08</td>\n",
       "      <td>41822</td>\n",
       "    </tr>\n",
       "    <tr>\n",
       "      <th>AA12</th>\n",
       "      <td>4/30/2021</td>\n",
       "      <td>5000000</td>\n",
       "      <td>50000</td>\n",
       "      <td>0.08</td>\n",
       "      <td>41822</td>\n",
       "    </tr>\n",
       "    <tr>\n",
       "      <th>...</th>\n",
       "      <td>...</td>\n",
       "      <td>...</td>\n",
       "      <td>...</td>\n",
       "      <td>...</td>\n",
       "      <td>...</td>\n",
       "    </tr>\n",
       "    <tr>\n",
       "      <th>AA12</th>\n",
       "      <td>8/31/2040</td>\n",
       "      <td>5000000</td>\n",
       "      <td>50000</td>\n",
       "      <td>0.08</td>\n",
       "      <td>41822</td>\n",
       "    </tr>\n",
       "    <tr>\n",
       "      <th>AA12</th>\n",
       "      <td>9/30/2040</td>\n",
       "      <td>5000000</td>\n",
       "      <td>50000</td>\n",
       "      <td>0.08</td>\n",
       "      <td>41822</td>\n",
       "    </tr>\n",
       "    <tr>\n",
       "      <th>AA12</th>\n",
       "      <td>10/31/2040</td>\n",
       "      <td>5000000</td>\n",
       "      <td>50000</td>\n",
       "      <td>0.08</td>\n",
       "      <td>41822</td>\n",
       "    </tr>\n",
       "    <tr>\n",
       "      <th>AA12</th>\n",
       "      <td>11/30/2040</td>\n",
       "      <td>5000000</td>\n",
       "      <td>50000</td>\n",
       "      <td>0.08</td>\n",
       "      <td>41822</td>\n",
       "    </tr>\n",
       "    <tr>\n",
       "      <th>AA12</th>\n",
       "      <td>12/31/2040</td>\n",
       "      <td>5000000</td>\n",
       "      <td>50000</td>\n",
       "      <td>0.08</td>\n",
       "      <td>41822</td>\n",
       "    </tr>\n",
       "  </tbody>\n",
       "</table>\n",
       "<p>241 rows × 5 columns</p>\n",
       "</div>"
      ],
      "text/plain": [
       "                 Dates  Loan_Availed  Cost_Avail  Rate      EMI\n",
       "Account_ID                                                     \n",
       "AA12        12/31/2020       5000000       50000  0.08 -4950000\n",
       "AA12          1/1/2021       5000000       50000  0.08    41822\n",
       "AA12         2/28/2021       5000000       50000  0.08    41822\n",
       "AA12         3/31/2021       5000000       50000  0.08    41822\n",
       "AA12         4/30/2021       5000000       50000  0.08    41822\n",
       "...                ...           ...         ...   ...      ...\n",
       "AA12         8/31/2040       5000000       50000  0.08    41822\n",
       "AA12         9/30/2040       5000000       50000  0.08    41822\n",
       "AA12        10/31/2040       5000000       50000  0.08    41822\n",
       "AA12        11/30/2040       5000000       50000  0.08    41822\n",
       "AA12        12/31/2040       5000000       50000  0.08    41822\n",
       "\n",
       "[241 rows x 5 columns]"
      ]
     },
     "execution_count": 3,
     "metadata": {},
     "output_type": "execute_result"
    }
   ],
   "source": [
    "data"
   ]
  },
  {
   "cell_type": "code",
   "execution_count": 4,
   "id": "ed2bc5c1-a906-4141-8280-471ea4fead5d",
   "metadata": {},
   "outputs": [
    {
     "name": "stdout",
     "output_type": "stream",
     "text": [
      "Account_ID\n",
      "AA12    4950000\n",
      "AA12    4950000\n",
      "AA12    4950000\n",
      "AA12    4950000\n",
      "AA12    4950000\n",
      "         ...   \n",
      "AA12    4950000\n",
      "AA12    4950000\n",
      "AA12    4950000\n",
      "AA12    4950000\n",
      "AA12    4950000\n",
      "Name: Effect_Amt, Length: 241, dtype: int64\n"
     ]
    }
   ],
   "source": [
    "data['Effect_Amt']=data.Loan_Availed-data.Cost_Avail\n",
    "print(data['Effect_Amt'])"
   ]
  },
  {
   "cell_type": "code",
   "execution_count": 5,
   "id": "0077365a-189c-4aae-90e5-a05cea5b7b5a",
   "metadata": {},
   "outputs": [
    {
     "name": "stdout",
     "output_type": "stream",
     "text": [
      "[-4950000 -4950000    41822    41822    41822    41822    41822    41822\n",
      "    41822    41822    41822    41822    41822    41822    41822    41822\n",
      "    41822    41822    41822    41822    41822    41822    41822    41822\n",
      "    41822    41822    41822    41822    41822    41822    41822    41822\n",
      "    41822    41822    41822    41822    41822    41822    41822    41822\n",
      "    41822    41822    41822    41822    41822    41822    41822    41822\n",
      "    41822    41822    41822    41822    41822    41822    41822    41822\n",
      "    41822    41822    41822    41822    41822    41822    41822    41822\n",
      "    41822    41822    41822    41822    41822    41822    41822    41822\n",
      "    41822    41822    41822    41822    41822    41822    41822    41822\n",
      "    41822    41822    41822    41822    41822    41822    41822    41822\n",
      "    41822    41822    41822    41822    41822    41822    41822    41822\n",
      "    41822    41822    41822    41822    41822    41822    41822    41822\n",
      "    41822    41822    41822    41822    41822    41822    41822    41822\n",
      "    41822    41822    41822    41822    41822    41822    41822    41822\n",
      "    41822    41822    41822    41822    41822    41822    41822    41822\n",
      "    41822    41822    41822    41822    41822    41822    41822    41822\n",
      "    41822    41822    41822    41822    41822    41822    41822    41822\n",
      "    41822    41822    41822    41822    41822    41822    41822    41822\n",
      "    41822    41822    41822    41822    41822    41822    41822    41822\n",
      "    41822    41822    41822    41822    41822    41822    41822    41822\n",
      "    41822    41822    41822    41822    41822    41822    41822    41822\n",
      "    41822    41822    41822    41822    41822    41822    41822    41822\n",
      "    41822    41822    41822    41822    41822    41822    41822    41822\n",
      "    41822    41822    41822    41822    41822    41822    41822    41822\n",
      "    41822    41822    41822    41822    41822    41822    41822    41822\n",
      "    41822    41822    41822    41822    41822    41822    41822    41822\n",
      "    41822    41822    41822    41822    41822    41822    41822    41822\n",
      "    41822    41822    41822    41822    41822    41822    41822    41822\n",
      "    41822    41822    41822    41822    41822    41822    41822    41822\n",
      "    41822    41822]\n",
      "0.0001\n"
     ]
    }
   ],
   "source": [
    "cashflow1=[data.Effect_Amt[1]*-1]\n",
    "cashflow2=data.EMI.to_numpy()\n",
    "cashflows=np.concatenate((cashflow1,cashflow2))\n",
    "irr=round(npf.irr(cashflows),4)\n",
    "\n",
    "print(cashflows)\n",
    "print(irr)"
   ]
  },
  {
   "cell_type": "code",
   "execution_count": 6,
   "id": "839ed1a7-61d0-4704-a7b2-ead1498d8a64",
   "metadata": {},
   "outputs": [
    {
     "data": {
      "text/plain": [
       "0.00011407783832551033"
      ]
     },
     "execution_count": 6,
     "metadata": {},
     "output_type": "execute_result"
    }
   ],
   "source": [
    "npf.irr(cashflows)"
   ]
  },
  {
   "cell_type": "code",
   "execution_count": 7,
   "id": "91702055-6a1d-4020-b848-ccbc2f0e67d9",
   "metadata": {},
   "outputs": [],
   "source": [
    "import datetime\n",
    "from scipy import optimize\n",
    "\n",
    "def xnpv(rate,cashflows):\n",
    "    chron_order = sorted(cashflows, key = lambda x: x[0])\n",
    "    t0 = chron_order[0][0]\n",
    "    return sum([cf/(1+rate)**((t-t0).days/365.0) for (t,cf) in chron_order])\n",
    "\n",
    "def xirr(cashflows,guess=0.1):\n",
    "    return optimize.newton(lambda r: xnpv(r,cashflows),guess)"
   ]
  },
  {
   "cell_type": "code",
   "execution_count": 8,
   "id": "620ff1e6-3bcb-4b7c-8b42-e580c53f563c",
   "metadata": {},
   "outputs": [],
   "source": [
    "import scipy.optimize\n",
    "\n",
    "def xnpv(rate, values, dates):\n",
    "    '''Equivalent of Excel's XNPV function.\n",
    "\n",
    "    >>> from datetime import date\n",
    "    >>> dates = [date(2010, 12, 29), date(2012, 1, 25), date(2012, 3, 8)]\n",
    "    >>> values = [-10000, 20, 10100]\n",
    "    >>> xnpv(0.1, values, dates)\n",
    "    -966.4345...\n",
    "    '''\n",
    "    if rate <= -1.0:\n",
    "        return float('inf')\n",
    "    d0 = dates[0]    # or min(dates)\n",
    "    return sum([ vi / (1.0 + rate)**((di - d0).days / 365.0) for vi, di in zip(values, dates)])\n",
    "\n",
    "def xirr(values, dates):\n",
    "    '''Equivalent of Excel's XIRR function.\n",
    "\n",
    "    >>> from datetime import date\n",
    "    >>> dates = [date(2010, 12, 29), date(2012, 1, 25), date(2012, 3, 8)]\n",
    "    >>> values = [-10000, 20, 10100]\n",
    "    >>> xirr(values, dates)\n",
    "    0.0100612...\n",
    "    '''\n",
    "    try:\n",
    "        return scipy.optimize.newton(lambda r: xnpv(r, values, dates), 0.0)\n",
    "    except RuntimeError:    # Failed to converge?\n",
    "        return scipy.optimize.brentq(lambda r: xnpv(r, values, dates), -1.0, 1e10)"
   ]
  },
  {
   "cell_type": "code",
   "execution_count": 9,
   "id": "707b29c3-06fa-478f-b3cb-ea5452f7398d",
   "metadata": {},
   "outputs": [
    {
     "data": {
      "text/plain": [
       "0.08444035344495061"
      ]
     },
     "execution_count": 9,
     "metadata": {},
     "output_type": "execute_result"
    }
   ],
   "source": [
    "from pyxirr import xirr\n",
    "from datetime import date\n",
    "dates=pd.to_datetime(data.Dates)\n",
    "xirr(dates,data.EMI)\n",
    "\n",
    "#print(\"12/31/2020\",-4950000, xirr(date(2010, 12, 29),-4950000))"
   ]
  },
  {
   "cell_type": "code",
   "execution_count": 10,
   "id": "1fb73717-8e7a-47fb-bf6f-161c52e9b87f",
   "metadata": {},
   "outputs": [],
   "source": [
    "dates=pd.to_datetime(data.Dates)"
   ]
  },
  {
   "cell_type": "code",
   "execution_count": 33,
   "id": "6b14ec3d-ec34-484f-9e0d-c2ad0c830f93",
   "metadata": {},
   "outputs": [
    {
     "ename": "ValueError",
     "evalue": "Invalid frequency: MD",
     "output_type": "error",
     "traceback": [
      "\u001b[0;31m---------------------------------------------------------------------------\u001b[0m",
      "\u001b[0;31mKeyError\u001b[0m                                  Traceback (most recent call last)",
      "\u001b[0;32m/usr/local/lib/python3.9/site-packages/pandas/_libs/tslibs/offsets.pyx\u001b[0m in \u001b[0;36mpandas._libs.tslibs.offsets._get_offset\u001b[0;34m()\u001b[0m\n",
      "\u001b[0;31mKeyError\u001b[0m: 'MD'",
      "\nThe above exception was the direct cause of the following exception:\n",
      "\u001b[0;31mValueError\u001b[0m                                Traceback (most recent call last)",
      "\u001b[0;32m/usr/local/lib/python3.9/site-packages/pandas/_libs/tslibs/offsets.pyx\u001b[0m in \u001b[0;36mpandas._libs.tslibs.offsets.to_offset\u001b[0;34m()\u001b[0m\n",
      "\u001b[0;32m/usr/local/lib/python3.9/site-packages/pandas/_libs/tslibs/offsets.pyx\u001b[0m in \u001b[0;36mpandas._libs.tslibs.offsets._get_offset\u001b[0;34m()\u001b[0m\n",
      "\u001b[0;31mValueError\u001b[0m: Invalid frequency: MD",
      "\nThe above exception was the direct cause of the following exception:\n",
      "\u001b[0;31mValueError\u001b[0m                                Traceback (most recent call last)",
      "\u001b[0;32m<ipython-input-33-bf521f250ec4>\u001b[0m in \u001b[0;36m<module>\u001b[0;34m\u001b[0m\n\u001b[0;32m----> 1\u001b[0;31m pd.date_range('2014-10-25','2019-11-25', \n\u001b[0m\u001b[1;32m      2\u001b[0m               freq='MD').strftime(\"%Y-%m-%d\").tolist()\n",
      "\u001b[0;32m/usr/local/lib/python3.9/site-packages/pandas/core/indexes/datetimes.py\u001b[0m in \u001b[0;36mdate_range\u001b[0;34m(start, end, periods, freq, tz, normalize, name, closed, **kwargs)\u001b[0m\n\u001b[1;32m   1095\u001b[0m         \u001b[0mfreq\u001b[0m \u001b[0;34m=\u001b[0m \u001b[0;34m\"D\"\u001b[0m\u001b[0;34m\u001b[0m\u001b[0;34m\u001b[0m\u001b[0m\n\u001b[1;32m   1096\u001b[0m \u001b[0;34m\u001b[0m\u001b[0m\n\u001b[0;32m-> 1097\u001b[0;31m     dtarr = DatetimeArray._generate_range(\n\u001b[0m\u001b[1;32m   1098\u001b[0m         \u001b[0mstart\u001b[0m\u001b[0;34m=\u001b[0m\u001b[0mstart\u001b[0m\u001b[0;34m,\u001b[0m\u001b[0;34m\u001b[0m\u001b[0;34m\u001b[0m\u001b[0m\n\u001b[1;32m   1099\u001b[0m         \u001b[0mend\u001b[0m\u001b[0;34m=\u001b[0m\u001b[0mend\u001b[0m\u001b[0;34m,\u001b[0m\u001b[0;34m\u001b[0m\u001b[0;34m\u001b[0m\u001b[0m\n",
      "\u001b[0;32m/usr/local/lib/python3.9/site-packages/pandas/core/arrays/datetimes.py\u001b[0m in \u001b[0;36m_generate_range\u001b[0;34m(cls, start, end, periods, freq, tz, normalize, ambiguous, nonexistent, closed)\u001b[0m\n\u001b[1;32m    404\u001b[0m                 \u001b[0;34m\"and freq, exactly three must be specified\"\u001b[0m\u001b[0;34m\u001b[0m\u001b[0;34m\u001b[0m\u001b[0m\n\u001b[1;32m    405\u001b[0m             )\n\u001b[0;32m--> 406\u001b[0;31m         \u001b[0mfreq\u001b[0m \u001b[0;34m=\u001b[0m \u001b[0mto_offset\u001b[0m\u001b[0;34m(\u001b[0m\u001b[0mfreq\u001b[0m\u001b[0;34m)\u001b[0m\u001b[0;34m\u001b[0m\u001b[0;34m\u001b[0m\u001b[0m\n\u001b[0m\u001b[1;32m    407\u001b[0m \u001b[0;34m\u001b[0m\u001b[0m\n\u001b[1;32m    408\u001b[0m         \u001b[0;32mif\u001b[0m \u001b[0mstart\u001b[0m \u001b[0;32mis\u001b[0m \u001b[0;32mnot\u001b[0m \u001b[0;32mNone\u001b[0m\u001b[0;34m:\u001b[0m\u001b[0;34m\u001b[0m\u001b[0;34m\u001b[0m\u001b[0m\n",
      "\u001b[0;32m/usr/local/lib/python3.9/site-packages/pandas/_libs/tslibs/offsets.pyx\u001b[0m in \u001b[0;36mpandas._libs.tslibs.offsets.to_offset\u001b[0;34m()\u001b[0m\n",
      "\u001b[0;32m/usr/local/lib/python3.9/site-packages/pandas/_libs/tslibs/offsets.pyx\u001b[0m in \u001b[0;36mpandas._libs.tslibs.offsets.to_offset\u001b[0;34m()\u001b[0m\n",
      "\u001b[0;31mValueError\u001b[0m: Invalid frequency: MD"
     ]
    }
   ],
   "source": [
    "pd.date_range('2014-10-25','2019-11-25', \n",
    "              freq='MD').strftime(\"%Y-%m-%d\").tolist()"
   ]
  },
  {
   "cell_type": "code",
   "execution_count": 30,
   "id": "rising-democracy",
   "metadata": {},
   "outputs": [
    {
     "name": "stdout",
     "output_type": "stream",
     "text": [
      "2019-11-25 00:00:00\n"
     ]
    }
   ],
   "source": [
    "import datetime\n",
    "date = datetime.datetime.strptime('2014-11-25', \"%Y-%m-%d\") + pd.offsets.DateOffset(months=60)\n",
    "print(date)"
   ]
  },
  {
   "cell_type": "code",
   "execution_count": 27,
   "id": "detected-westminster",
   "metadata": {},
   "outputs": [
    {
     "data": {
      "text/plain": [
       "datetime.datetime(2014, 11, 1, 0, 0)"
      ]
     },
     "execution_count": 27,
     "metadata": {},
     "output_type": "execute_result"
    }
   ],
   "source": []
  },
  {
   "cell_type": "code",
   "execution_count": 39,
   "id": "horizontal-literature",
   "metadata": {},
   "outputs": [
    {
     "data": {
      "text/plain": [
       "'2020-12-30'"
      ]
     },
     "execution_count": 39,
     "metadata": {},
     "output_type": "execute_result"
    }
   ],
   "source": [
    "datetime.datetime.strptime('12/30/2020',\"%m/%d/%Y\").strftime(\"%Y-%m-%d\")"
   ]
  },
  {
   "cell_type": "code",
   "execution_count": null,
   "id": "bearing-reconstruction",
   "metadata": {},
   "outputs": [],
   "source": []
  }
 ],
 "metadata": {
  "kernelspec": {
   "display_name": "Python 3",
   "language": "python",
   "name": "python3"
  },
  "language_info": {
   "codemirror_mode": {
    "name": "ipython",
    "version": 3
   },
   "file_extension": ".py",
   "mimetype": "text/x-python",
   "name": "python",
   "nbconvert_exporter": "python",
   "pygments_lexer": "ipython3",
   "version": "3.9.7"
  }
 },
 "nbformat": 4,
 "nbformat_minor": 5
}
