{
 "cells": [
  {
   "cell_type": "code",
   "execution_count": 1,
   "metadata": {},
   "outputs": [],
   "source": [
    "import numpy as np\n",
    "import pandas as pd"
   ]
  },
  {
   "cell_type": "code",
   "execution_count": 2,
   "metadata": {},
   "outputs": [],
   "source": [
    "data=pd.read_csv(\"Stage_Input.csv\", index_col='Date')"
   ]
  },
  {
   "cell_type": "code",
   "execution_count": 11,
   "metadata": {},
   "outputs": [],
   "source": [
    "data['Current_State']=\"No Change\"\n",
    "data['Current_Stage']=\"Stage One\"\n",
    "for i in range (0,data.shape[0]):\n",
    "    if ((data.Old_Rating[i]==\"BBB\") and (data.New_Rating[i]==\"BB\")):\n",
    "        data.Current_State[i]=\"Downgrade\"\n",
    "    if ((data.Old_Rating[i]==\"BB\") and (data.New_Rating[i]==\"B\")):\n",
    "        data.Current_State[i]=\"Downgrade\"\n",
    "    if ((data.Old_Rating[i]==\"C\") and (data.New_Rating[i]==\"D\")):\n",
    "        data.Current_State[i]=\"Default\" \n",
    "    if ((data.Old_Rating[i]==\"D\") and (data.New_Rating[i]==\"D\")):\n",
    "        data.Current_State[i]=\"Default\"\n",
    "    if (data.Current_State[i]==\"Downgrade\"):\n",
    "        data.Current_Stage[i]=\"Stage Two\"\n",
    "    if (data.Current_State[i]==\"Default\"):\n",
    "        data.Current_Stage[i]=\"Stage Three\"\n",
    "        \n",
    "\n",
    "    "
   ]
  },
  {
   "cell_type": "code",
   "execution_count": 13,
   "metadata": {},
   "outputs": [],
   "source": [
    "data.to_csv(\"Output_Stage.csv\")"
   ]
  },
  {
   "cell_type": "code",
   "execution_count": null,
   "metadata": {},
   "outputs": [],
   "source": []
  }
 ],
 "metadata": {
  "kernelspec": {
   "display_name": "Python 3",
   "language": "python",
   "name": "python3"
  },
  "language_info": {
   "codemirror_mode": {
    "name": "ipython",
    "version": 3
   },
   "file_extension": ".py",
   "mimetype": "text/x-python",
   "name": "python",
   "nbconvert_exporter": "python",
   "pygments_lexer": "ipython3",
   "version": "3.9.7"
  }
 },
 "nbformat": 4,
 "nbformat_minor": 4
}
