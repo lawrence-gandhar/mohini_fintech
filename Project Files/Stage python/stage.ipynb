{
 "cells": [
  {
   "cell_type": "code",
   "execution_count": 1,
   "metadata": {},
   "outputs": [],
   "source": [
    "import numpy as np\n",
    "import pandas as pd"
   ]
  },
  {
   "cell_type": "code",
   "execution_count": 2,
   "metadata": {},
   "outputs": [],
   "source": [
    "data=pd.read_csv(\"Stage_Input.csv\", index_col='Date')"
   ]
  },
  {
   "cell_type": "code",
   "execution_count": 3,
   "metadata": {},
   "outputs": [],
   "source": [
    "data['Current_State']=\"No Change\"\n",
    "data['Current_Stage']=\"Stage One\"\n",
    "for i in range (0,data.shape[0]):\n",
    "    if ((data.Old_Rating[i]==\"BBB\") and (data.New_Rating[i]==\"BB\")):\n",
    "        data.Current_State[i]=\"Downgrade\"\n",
    "    if ((data.Old_Rating[i]==\"BB\") and (data.New_Rating[i]==\"B\")):\n",
    "        data.Current_State[i]=\"Downgrade\"\n",
    "    if ((data.Old_Rating[i]==\"C\") and (data.New_Rating[i]==\"D\")):\n",
    "        data.Current_State[i]=\"Default\" \n",
    "    if ((data.Old_Rating[i]==\"D\") and (data.New_Rating[i]==\"D\")):\n",
    "        data.Current_State[i]=\"Default\"\n",
    "    if (data.Current_State[i]==\"Downgrade\"):\n",
    "        data.Current_Stage[i]=\"Stage Two\"\n",
    "    if (data.Current_State[i]==\"Default\"):\n",
    "        data.Current_Stage[i]=\"Stage Three\"\n",
    "        \n",
    "\n",
    "    "
   ]
  },
  {
   "cell_type": "code",
   "execution_count": 13,
   "metadata": {},
   "outputs": [],
   "source": [
    "data.to_csv(\"Output_Stage.csv\")"
   ]
  },
  {
   "cell_type": "code",
   "execution_count": 4,
   "metadata": {},
   "outputs": [
    {
     "name": "stdout",
     "output_type": "stream",
     "text": [
      "                 CIN     Product Name Account_ID                  Sector  \\\n",
      "Date                                                                       \n",
      "9/19/2021  CL2266549  Corporate_Loans     D_AA12               Materials   \n",
      "9/19/2021  CL2266550  Corporate_Loans     D_AA13             Industrials   \n",
      "9/19/2021  CL2266551  Corporate_Loans     D_AA14              Financials   \n",
      "9/19/2021  CL2266552  Corporate_Loans     D_AA15                  Energy   \n",
      "9/19/2021  CL2266553  Corporate_Loans     D_AA16  Consumer discretionary   \n",
      "9/19/2021  CL2266554  Corporate_Loans     D_AA17  Information technology   \n",
      "9/19/2021  CL2266555  Corporate_Loans     D_AA18  Communication services   \n",
      "9/19/2021  CL2266556  Corporate_Loans     D_AA19             Real estate   \n",
      "9/19/2021  CL2266557  Corporate_Loans     D_AA20             Health care   \n",
      "9/19/2021  CL2266558  Corporate_Loans     D_AA21        Consumer staples   \n",
      "9/19/2021  CL2266559  Corporate_Loans     D_AA22               Utilities   \n",
      "9/19/2021  CL2266560  Corporate_Loans     D_AA23               Materials   \n",
      "9/19/2021  CL2266561  Corporate_Loans     D_AA24             Industrials   \n",
      "9/19/2021  CL2266562  Corporate_Loans     D_AA25              Financials   \n",
      "9/19/2021  CL2266563  Corporate_Loans     D_AA26                  Energy   \n",
      "9/19/2021  CL2266564  Corporate_Loans     D_AA27  Consumer discretionary   \n",
      "9/19/2021  CL2266565  Corporate_Loans     D_AA28  Information technology   \n",
      "9/19/2021  CL2266566  Corporate_Loans     D_AA29  Communication services   \n",
      "9/19/2021  CL2266567  Corporate_Loans     D_AA30             Real estate   \n",
      "9/19/2021  CL2266568  Corporate_Loans     D_AA31             Health care   \n",
      "9/19/2021  CL2266569  Corporate_Loans     D_AA32             Health care   \n",
      "\n",
      "          Old_Rating New_Rating Current_State Current_Stage  \n",
      "Date                                                         \n",
      "9/19/2021          A          A     No Change     Stage One  \n",
      "9/19/2021        BBB        BBB     No Change     Stage One  \n",
      "9/19/2021         BB         BB     No Change     Stage One  \n",
      "9/19/2021         AA         AA     No Change     Stage One  \n",
      "9/19/2021         AA         AA     No Change     Stage One  \n",
      "9/19/2021         AA         AA     No Change     Stage One  \n",
      "9/19/2021        BBB         BB     Downgrade     Stage Two  \n",
      "9/19/2021         AA         AA     No Change     Stage One  \n",
      "9/19/2021         AA         AA     No Change     Stage One  \n",
      "9/19/2021         AA         AA     No Change     Stage One  \n",
      "9/19/2021         BB          B     Downgrade     Stage Two  \n",
      "9/19/2021         BB          B     Downgrade     Stage Two  \n",
      "9/19/2021        BBB         BB     Downgrade     Stage Two  \n",
      "9/19/2021          D          D       Default   Stage Three  \n",
      "9/19/2021          C          D       Default   Stage Three  \n",
      "9/19/2021        BBB        BBB     No Change     Stage One  \n",
      "9/19/2021        BBB        BBB     No Change     Stage One  \n",
      "9/19/2021        BBB        BBB     No Change     Stage One  \n",
      "9/19/2021        BBB        BBB     No Change     Stage One  \n",
      "9/19/2021        BBB        BBB     No Change     Stage One  \n",
      "9/19/2021        BBB        BBB     No Change     Stage One  \n"
     ]
    }
   ],
   "source": [
    "print(data)"
   ]
  },
  {
   "cell_type": "code",
   "execution_count": null,
   "metadata": {},
   "outputs": [],
   "source": []
  }
 ],
 "metadata": {
  "kernelspec": {
   "display_name": "Python 3",
   "language": "python",
   "name": "python3"
  },
  "language_info": {
   "codemirror_mode": {
    "name": "ipython",
    "version": 3
   },
   "file_extension": ".py",
   "mimetype": "text/x-python",
   "name": "python",
   "nbconvert_exporter": "python",
   "pygments_lexer": "ipython3",
   "version": "3.9.7"
  }
 },
 "nbformat": 4,
 "nbformat_minor": 4
}
